{
 "cells": [
  {
   "cell_type": "markdown",
   "metadata": {},
   "source": [
    "## (1) Regex in customer support"
   ]
  },
  {
   "cell_type": "markdown",
   "metadata": {},
   "source": [
    "### Retrive Order Number"
   ]
  },
  {
   "cell_type": "code",
   "execution_count": 1,
   "metadata": {
    "collapsed": true
   },
   "outputs": [],
   "source": [
    "import re"
   ]
  },
  {
   "cell_type": "code",
   "execution_count": 70,
   "metadata": {},
   "outputs": [
    {
     "data": {
      "text/plain": [
       "['41245912']"
      ]
     },
     "execution_count": 70,
     "metadata": {},
     "output_type": "execute_result"
    }
   ],
   "source": [
    "chat1='NSK: Hello, I am having an issue with my order # 41245912'\n",
    "\n",
    "pattern = 'order[^\\d]*(\\d*)'\n",
    "matches = re.findall(pattern, chat1)\n",
    "matches"
   ]
  },
  {
   "cell_type": "code",
   "execution_count": 73,
   "metadata": {},
   "outputs": [
    {
     "data": {
      "text/plain": [
       "['order number 415645912']"
      ]
     },
     "execution_count": 73,
     "metadata": {},
     "output_type": "execute_result"
    }
   ],
   "source": [
    "chat1='NSK: Hello, I am having an issue with my order number 415645912'\n",
    "\n",
    "pattern = 'order[^\\d]*\\d*'\n",
    "matches = re.findall(pattern, chat1)\n",
    "matches"
   ]
  },
  {
   "cell_type": "code",
   "execution_count": 65,
   "metadata": {
    "collapsed": true
   },
   "outputs": [],
   "source": [
    "chat1 = 'codebasics: you ask lot of questions 😠  1235678912, abc@xyz.com, 9923453434, saikarthik.naladala@gmail.com, sai_karthik@cognizant.org'\n",
    "chat2 = 'codebasics: here it is: (123)-567-8912, abc@xyz.com'\n",
    "chat3 = 'codebasics: yes, phone: 1235678912 email: abc@xyz.com'"
   ]
  },
  {
   "cell_type": "markdown",
   "metadata": {},
   "source": [
    "### Extracting Phone number"
   ]
  },
  {
   "cell_type": "code",
   "execution_count": 66,
   "metadata": {},
   "outputs": [
    {
     "data": {
      "text/plain": [
       "(['1235678912', '9923453434'], ['(123)-567-8912'])"
      ]
     },
     "execution_count": 66,
     "metadata": {},
     "output_type": "execute_result"
    }
   ],
   "source": [
    "pattern = '\\d{10}|\\(\\d{3}\\)-\\d{3}-\\d{4}'\n",
    "\n",
    "matches = re.findall(pattern,chat1)\n",
    "matches1 = re.findall(pattern,chat2)\n",
    "matches, matches1"
   ]
  },
  {
   "cell_type": "markdown",
   "metadata": {},
   "source": [
    "### Extracting Email ID"
   ]
  },
  {
   "cell_type": "code",
   "execution_count": 68,
   "metadata": {},
   "outputs": [
    {
     "data": {
      "text/plain": [
       "['abc@xyz.com', 'saikarthik.naladala@gmail.com', 'sai_karthik@cognizant.org']"
      ]
     },
     "execution_count": 68,
     "metadata": {},
     "output_type": "execute_result"
    }
   ],
   "source": [
    "pattern = '[a-zA-z0-9.]+@[a-zA-Z0-9]+.[a-zA-z]+'\n",
    "matches = re.findall(pattern,chat1)\n",
    "matches"
   ]
  },
  {
   "cell_type": "markdown",
   "metadata": {},
   "source": [
    "## (2) Regex for Information Extraction"
   ]
  },
  {
   "cell_type": "code",
   "execution_count": 88,
   "metadata": {},
   "outputs": [
    {
     "data": {
      "text/plain": [
       "['[4]', '[5]', '[6]', '[7]', '[8]', '[9]']"
      ]
     },
     "execution_count": 88,
     "metadata": {},
     "output_type": "execute_result"
    }
   ],
   "source": [
    "text = '''\n",
    "    Michael Gerard Tyson (born June 30, 1966) is an American former professional boxer who competed between 1985 and 2005, \n",
    "    with a post-retirement fight in 2024. Nicknamed \"Iron Mike\"[4] and \"Kid Dynamite\" in his early career, \n",
    "    and later known as \"the Baddest Man on the Planet\",\n",
    "    [5] Tyson is regarded as one of the greatest heavyweight boxers of all time.\n",
    "    [6] He reigned as the undisputed[a] world heavyweight champion from 1987 to 1990.\n",
    "    Tyson won his first 19 professional fights by knockout, 12 of them in the first round. Claiming his first belt at 20 years,\n",
    "    4 months, and 22 days old, Tyson holds the record as the youngest boxer ever to win a heavyweight title.\n",
    "    [7] He was the first heavyweight boxer to simultaneously hold the World Boxing Association (WBA), \n",
    "    World Boxing Council (WBC), and International Boxing Federation (IBF) titles, \n",
    "    as well as the only heavyweight to unify them in succession. The following year,\n",
    "    Tyson became the lineal champion when he knocked out Michael Spinks in 91 seconds of the first round.\n",
    "    [8] In 1990, Tyson lost the undisputed heavyweight championship when he was knocked out by underdog Buster Douglas, \n",
    "    making it one of the biggest upsets in boxing history.[9]\n",
    "    '''\n",
    "pattern = '\\[\\d+\\]'\n",
    "matches = re.findall(pattern,text)\n",
    "matches"
   ]
  },
  {
   "cell_type": "code",
   "execution_count": 89,
   "metadata": {},
   "outputs": [
    {
     "data": {
      "text/plain": [
       "[' He was the first heavyweight boxer to simultaneously hold the World Boxing Association (WBA)',\n",
       " ' \\n    World Boxing Council (WBC)',\n",
       " ' and International Boxing Federation (IBF)']"
      ]
     },
     "execution_count": 89,
     "metadata": {},
     "output_type": "execute_result"
    }
   ],
   "source": [
    "pattern = '[A-Za-z\\s]+\\([a-zA-Z]+\\)'\n",
    "matches = re.findall(pattern,text)\n",
    "matches"
   ]
  },
  {
   "cell_type": "code",
   "execution_count": 90,
   "metadata": {},
   "outputs": [
    {
     "data": {
      "text/plain": [
       "['World Boxing Association (WBA)',\n",
       " 'World Boxing Council (WBC)',\n",
       " 'International Boxing Federation (IBF)']"
      ]
     },
     "execution_count": 90,
     "metadata": {},
     "output_type": "execute_result"
    }
   ],
   "source": [
    "pattern = '(World [A-Za-z]+ [A-Za-z]+ \\(W[A-Z]+\\)|International Boxing Federation \\(IBF\\))'\n",
    "matches = re.findall(pattern,text)\n",
    "matches"
   ]
  },
  {
   "cell_type": "code",
   "execution_count": 95,
   "metadata": {},
   "outputs": [
    {
     "data": {
      "text/plain": [
       "['born June 30, 1966']"
      ]
     },
     "execution_count": 95,
     "metadata": {},
     "output_type": "execute_result"
    }
   ],
   "source": [
    "pattern = 'born [a-z0-9A-Z]* \\d{2}, \\d{4}' \n",
    "matches = re.findall(pattern,text)\n",
    "matches"
   ]
  },
  {
   "cell_type": "code",
   "execution_count": 96,
   "metadata": {
    "collapsed": true
   },
   "outputs": [],
   "source": [
    "def get_pattern_match(pattern,text):\n",
    "    match = re.findall(pattern,text)\n",
    "    return match"
   ]
  },
  {
   "cell_type": "code",
   "execution_count": 105,
   "metadata": {
    "collapsed": true
   },
   "outputs": [],
   "source": [
    "def get_custom_information(text):\n",
    "    square_bracket_numbers = get_pattern_match('\\[\\d+\\]', text)\n",
    "    Full_Forms = get_pattern_match('(World [A-Za-z]+ [A-Za-z]+ \\(W[A-Z]+\\)|International Boxing Federation \\(IBF\\))', text)\n",
    "    birth_date = get_pattern_match('born [a-z0-9A-Z]* \\d{2}, \\d{4}' , text)\n",
    "    \n",
    "    return {\n",
    "        'Square Bracket Index Numbers' : square_bracket_numbers,\n",
    "        'Full Forms' : Full_Forms,\n",
    "        'Birth Date' : birth_date\n",
    "    }\n",
    "    "
   ]
  },
  {
   "cell_type": "code",
   "execution_count": 106,
   "metadata": {},
   "outputs": [
    {
     "data": {
      "text/plain": [
       "{'Birth Date': ['born June 30, 1966'],\n",
       " 'Full Forms': ['World Boxing Association (WBA)',\n",
       "  'World Boxing Council (WBC)',\n",
       "  'International Boxing Federation (IBF)'],\n",
       " 'Square Bracket Index Numbers': ['[4]', '[5]', '[6]', '[7]', '[8]', '[9]']}"
      ]
     },
     "execution_count": 106,
     "metadata": {},
     "output_type": "execute_result"
    }
   ],
   "source": [
    "get_custom_information(text)"
   ]
  },
  {
   "cell_type": "code",
   "execution_count": null,
   "metadata": {
    "collapsed": true
   },
   "outputs": [],
   "source": []
  },
  {
   "cell_type": "code",
   "execution_count": null,
   "metadata": {
    "collapsed": true
   },
   "outputs": [],
   "source": []
  }
 ],
 "metadata": {
  "kernelspec": {
   "display_name": "Python 3",
   "language": "python",
   "name": "python3"
  },
  "language_info": {
   "codemirror_mode": {
    "name": "ipython",
    "version": 3
   },
   "file_extension": ".py",
   "mimetype": "text/x-python",
   "name": "python",
   "nbconvert_exporter": "python",
   "pygments_lexer": "ipython3",
   "version": "3.6.1"
  }
 },
 "nbformat": 4,
 "nbformat_minor": 2
}
